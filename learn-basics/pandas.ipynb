{
 "cells": [
  {
   "cell_type": "markdown",
   "id": "e70e6786-0a3a-4691-ad82-d677a4b1811a",
   "metadata": {},
   "source": [
    "# Pandas"
   ]
  },
  {
   "cell_type": "code",
   "execution_count": 4,
   "id": "1d5df37a-7e7e-427d-8d74-292f22f4d067",
   "metadata": {},
   "outputs": [],
   "source": [
    "import pandas as pd\n",
    "import numpy as np"
   ]
  },
  {
   "cell_type": "markdown",
   "id": "4543ae49-ea47-4797-94a8-0690f407dc02",
   "metadata": {},
   "source": [
    "## Lets do some works here"
   ]
  },
  {
   "cell_type": "code",
   "execution_count": 3,
   "id": "3817ad6c-8849-4957-84b7-e8b577bb3164",
   "metadata": {},
   "outputs": [],
   "source": [
    "dates = pd.date_range(\"20200101\", periods = 6)"
   ]
  },
  {
   "cell_type": "code",
   "execution_count": 7,
   "id": "ba82b7de-b97a-4dcc-8123-df808d835bf0",
   "metadata": {},
   "outputs": [],
   "source": [
    "df = pd.DataFrame(np.random.randn(6, 4), index = dates, columns= [\"A\",\"B\",\"C\",\"D\"])"
   ]
  },
  {
   "cell_type": "markdown",
   "id": "aae17bc3-1427-4a04-b032-0af33e0f7eff",
   "metadata": {},
   "source": [
    "## See the results"
   ]
  },
  {
   "cell_type": "code",
   "execution_count": 9,
   "id": "c9152b3c-3b0a-4d21-91dd-d458ed5e81d2",
   "metadata": {},
   "outputs": [
    {
     "data": {
      "text/html": [
       "<div>\n",
       "<style scoped>\n",
       "    .dataframe tbody tr th:only-of-type {\n",
       "        vertical-align: middle;\n",
       "    }\n",
       "\n",
       "    .dataframe tbody tr th {\n",
       "        vertical-align: top;\n",
       "    }\n",
       "\n",
       "    .dataframe thead th {\n",
       "        text-align: right;\n",
       "    }\n",
       "</style>\n",
       "<table border=\"1\" class=\"dataframe\">\n",
       "  <thead>\n",
       "    <tr style=\"text-align: right;\">\n",
       "      <th></th>\n",
       "      <th>A</th>\n",
       "      <th>B</th>\n",
       "      <th>C</th>\n",
       "      <th>D</th>\n",
       "    </tr>\n",
       "  </thead>\n",
       "  <tbody>\n",
       "    <tr>\n",
       "      <th>2020-01-01</th>\n",
       "      <td>1.224579</td>\n",
       "      <td>0.715106</td>\n",
       "      <td>0.507842</td>\n",
       "      <td>-0.036301</td>\n",
       "    </tr>\n",
       "    <tr>\n",
       "      <th>2020-01-02</th>\n",
       "      <td>-0.191676</td>\n",
       "      <td>-0.545873</td>\n",
       "      <td>-1.165731</td>\n",
       "      <td>-0.546291</td>\n",
       "    </tr>\n",
       "    <tr>\n",
       "      <th>2020-01-03</th>\n",
       "      <td>-0.045350</td>\n",
       "      <td>-1.301232</td>\n",
       "      <td>-0.294875</td>\n",
       "      <td>0.695499</td>\n",
       "    </tr>\n",
       "    <tr>\n",
       "      <th>2020-01-04</th>\n",
       "      <td>-0.880748</td>\n",
       "      <td>0.864240</td>\n",
       "      <td>-0.512766</td>\n",
       "      <td>-1.488944</td>\n",
       "    </tr>\n",
       "    <tr>\n",
       "      <th>2020-01-05</th>\n",
       "      <td>-1.092666</td>\n",
       "      <td>0.493680</td>\n",
       "      <td>-0.488249</td>\n",
       "      <td>-0.062654</td>\n",
       "    </tr>\n",
       "    <tr>\n",
       "      <th>2020-01-06</th>\n",
       "      <td>-0.784350</td>\n",
       "      <td>-0.179545</td>\n",
       "      <td>0.967631</td>\n",
       "      <td>1.220355</td>\n",
       "    </tr>\n",
       "  </tbody>\n",
       "</table>\n",
       "</div>"
      ],
      "text/plain": [
       "                   A         B         C         D\n",
       "2020-01-01  1.224579  0.715106  0.507842 -0.036301\n",
       "2020-01-02 -0.191676 -0.545873 -1.165731 -0.546291\n",
       "2020-01-03 -0.045350 -1.301232 -0.294875  0.695499\n",
       "2020-01-04 -0.880748  0.864240 -0.512766 -1.488944\n",
       "2020-01-05 -1.092666  0.493680 -0.488249 -0.062654\n",
       "2020-01-06 -0.784350 -0.179545  0.967631  1.220355"
      ]
     },
     "execution_count": 9,
     "metadata": {},
     "output_type": "execute_result"
    }
   ],
   "source": [
    "df"
   ]
  },
  {
   "cell_type": "code",
   "execution_count": null,
   "id": "96ef3862-5f36-4f7b-9ad4-3ef5ca514725",
   "metadata": {},
   "outputs": [],
   "source": []
  }
 ],
 "metadata": {
  "kernelspec": {
   "display_name": "Python 3 (ipykernel)",
   "language": "python",
   "name": "python3"
  },
  "language_info": {
   "codemirror_mode": {
    "name": "ipython",
    "version": 3
   },
   "file_extension": ".py",
   "mimetype": "text/x-python",
   "name": "python",
   "nbconvert_exporter": "python",
   "pygments_lexer": "ipython3",
   "version": "3.11.2"
  }
 },
 "nbformat": 4,
 "nbformat_minor": 5
}
